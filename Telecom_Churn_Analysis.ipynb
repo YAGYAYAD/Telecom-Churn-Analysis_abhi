{
  "nbformat": 4,
  "nbformat_minor": 0,
  "metadata": {
    "colab": {
      "private_outputs": true,
      "provenance": [],
      "collapsed_sections": [
        "vncDsAP0Gaoa",
        "FJNUwmbgGyua",
        "w6K7xa23Elo4",
        "yQaldy8SH6Dl",
        "PH-0ReGfmX4f",
        "mDgbUHAGgjLW",
        "O_i_v8NEhb9l",
        "HhfV-JJviCcP",
        "Y3lxredqlCYt",
        "3RnN4peoiCZX",
        "x71ZqKXriCWQ",
        "7hBIi_osiCS2",
        "JlHwYmJAmNHm",
        "35m5QtbWiB9F",
        "PoPl-ycgm1ru",
        "H0kj-8xxnORC",
        "nA9Y7ga8ng1Z",
        "PBTbrJXOngz2",
        "u3PMJOP6ngxN",
        "dauF4eBmngu3",
        "bKJF3rekwFvQ",
        "MSa1f5Uengrz",
        "GF8Ens_Soomf",
        "0wOQAZs5pc--",
        "K5QZ13OEpz2H",
        "lQ7QKXXCp7Bj",
        "448CDAPjqfQr",
        "KSlN3yHqYklG",
        "t6dVpIINYklI",
        "ijmpgYnKYklI",
        "-JiQyfWJYklI",
        "EM7whBJCYoAo",
        "fge-S5ZAYoAp",
        "85gYPyotYoAp",
        "RoGjAbkUYoAp",
        "4Of9eVA-YrdM",
        "iky9q4vBYrdO",
        "F6T5p64dYrdO",
        "y-Ehk30pYrdP",
        "bamQiAODYuh1",
        "QHF8YVU7Yuh3",
        "GwzvFGzlYuh3",
        "qYpmQ266Yuh3",
        "OH-pJp9IphqM",
        "bbFf2-_FphqN",
        "_ouA3fa0phqN",
        "Seke61FWphqN",
        "PIIx-8_IphqN",
        "t27r6nlMphqO",
        "r2jJGEOYphqO",
        "b0JNsNcRphqO",
        "BZR9WyysphqO",
        "jj7wYXLtphqO",
        "eZrbJ2SmphqO",
        "rFu4xreNphqO",
        "YJ55k-q6phqO",
        "gCFgpxoyphqP",
        "OVtJsKN_phqQ",
        "lssrdh5qphqQ",
        "U2RJ9gkRphqQ",
        "1M8mcRywphqQ",
        "tgIPom80phqQ",
        "JMzcOPDDphqR",
        "x-EpHcCOp1ci",
        "X_VqEhTip1ck",
        "8zGJKyg5p1ck",
        "PVzmfK_Ep1ck",
        "n3dbpmDWp1ck",
        "ylSl6qgtp1ck",
        "ZWILFDl5p1ck",
        "M7G43BXep1ck",
        "Ag9LCva-p1cl",
        "E6MkPsBcp1cl",
        "2cELzS2fp1cl",
        "3MPXvC8up1cl",
        "NC_X3p0fY2L0",
        "UV0SzAkaZNRQ",
        "YPEH6qLeZNRQ",
        "q29F0dvdveiT",
        "EXh0U9oCveiU",
        "22aHeOlLveiV",
        "JcMwzZxoAimU",
        "8G2x9gOozGDZ",
        "gCX9965dhzqZ",
        "gIfDvo9L0UH2"
      ]
    },
    "kernelspec": {
      "name": "python3",
      "display_name": "Python 3"
    },
    "language_info": {
      "name": "python"
    }
  },
  "cells": [
    {
      "cell_type": "markdown",
      "source": [
        "# **Project Name**    - **TELECOM CHURN ANALYSIS**"
      ],
      "metadata": {
        "id": "vncDsAP0Gaoa"
      }
    },
    {
      "cell_type": "markdown",
      "source": [
        "##### **Project Type**    - EDA\n",
        "##### **Contribution**    - Individual\n",
        "##### **Member -**        - Abhisehk"
      ],
      "metadata": {
        "id": "beRrZCGUAJYm"
      }
    },
    {
      "cell_type": "markdown",
      "source": [
        "# **Project Summary -**"
      ],
      "metadata": {
        "id": "FJNUwmbgGyua"
      }
    },
    {
      "cell_type": "markdown",
      "source": [
        "Customer churn, or the quantity of consumers who leave a business over a specific time period, is a common problem for telecom firms. In this project, our goal was to examine a telecom company's customer attrition rate and determine the elements that influence it."
      ],
      "metadata": {
        "id": "F6v_1wHtG2nS"
      }
    },
    {
      "cell_type": "markdown",
      "source": [
        "# **GitHub Link -**"
      ],
      "metadata": {
        "id": "w6K7xa23Elo4"
      }
    },
    {
      "cell_type": "markdown",
      "source": [
        "https://github.com/YAGYAYAD/Telecom-Churn-Analysis_abhi"
      ],
      "metadata": {
        "id": "h1o69JH3Eqqn"
      }
    },
    {
      "cell_type": "markdown",
      "source": [
        "# **Problem Statement**\n"
      ],
      "metadata": {
        "id": "yQaldy8SH6Dl"
      }
    },
    {
      "cell_type": "markdown",
      "source": [
        "Orange S.A. is a multinational telecommunications company based in France that was formerly known as France Télécom S.A. The Orange Telecom Churn Dataset comprises a churn label indicating whether a customer canceled their service, together with cleansed customer activity data (features). Investigate and evaluate the data to identify the main causes of customer attrition and develop strategies or recommendations to guarantee customer retention."
      ],
      "metadata": {
        "id": "DpeJGUA3kjGy"
      }
    },
    {
      "cell_type": "markdown",
      "source": [
        "#### **Define Your Business Objective?**"
      ],
      "metadata": {
        "id": "PH-0ReGfmX4f"
      }
    },
    {
      "cell_type": "markdown",
      "source": [
        "* Finding the primary reason behind the customer's churn\n",
        "* Describe how to keep the important client."
      ],
      "metadata": {
        "id": "PhDvGCAqmjP1"
      }
    },
    {
      "cell_type": "markdown",
      "source": [
        "# **General Guidelines** : -  "
      ],
      "metadata": {
        "id": "mDgbUHAGgjLW"
      }
    },
    {
      "cell_type": "markdown",
      "source": [
        "1.   Well-structured, formatted, and commented code is required.\n",
        "2.   Exception Handling, Production Grade Code & Deployment Ready Code will be a plus. Those students will be awarded some additional credits.\n",
        "     \n",
        "     The additional credits will have advantages over other students during Star Student selection.\n",
        "       \n",
        "             [ Note: - Deployment Ready Code is defined as, the whole .ipynb notebook should be executable in one go\n",
        "                       without a single error logged. ]\n",
        "\n",
        "3.   Each and every logic should have proper comments.\n",
        "4. You may add as many number of charts you want. Make Sure for each and every chart the following format should be answered.\n",
        "        \n",
        "\n",
        "```\n",
        "# Chart visualization code\n",
        "```\n",
        "            \n",
        "\n",
        "*   Why did you pick the specific chart?\n",
        "*   What is/are the insight(s) found from the chart?\n",
        "* Will the gained insights help creating a positive business impact?\n",
        "Are there any insights that lead to negative growth? Justify with specific reason.\n",
        "\n",
        "5. You have to create at least 20 logical & meaningful charts having important insights.\n",
        "\n",
        "\n",
        "[ Hints : - Do the Vizualization in  a structured way while following \"UBM\" Rule.\n",
        "\n",
        "U - Univariate Analysis,\n",
        "\n",
        "B - Bivariate Analysis (Numerical - Categorical, Numerical - Numerical, Categorical - Categorical)\n",
        "\n",
        "M - Multivariate Analysis\n",
        " ]\n",
        "\n",
        "\n",
        "\n"
      ],
      "metadata": {
        "id": "ZrxVaUj-hHfC"
      }
    },
    {
      "cell_type": "markdown",
      "source": [
        "# ***Let's Begin !***"
      ],
      "metadata": {
        "id": "O_i_v8NEhb9l"
      }
    },
    {
      "cell_type": "markdown",
      "source": [
        "## ***1. Know Your Data***"
      ],
      "metadata": {
        "id": "HhfV-JJviCcP"
      }
    },
    {
      "cell_type": "markdown",
      "source": [
        "### Import Libraries"
      ],
      "metadata": {
        "id": "Y3lxredqlCYt"
      }
    },
    {
      "cell_type": "code",
      "source": [
        "# Import Libraries\n",
        "import numpy as np\n",
        "import pandas as pd\n",
        "import matplotlib.pyplot as plt\n",
        "%matplotlib inline\n",
        "import seaborn as sns\n",
        "import ast"
      ],
      "metadata": {
        "id": "M8Vqi-pPk-HR"
      },
      "execution_count": null,
      "outputs": []
    },
    {
      "cell_type": "markdown",
      "source": [
        "### Dataset Loading"
      ],
      "metadata": {
        "id": "3RnN4peoiCZX"
      }
    },
    {
      "cell_type": "code",
      "source": [
        "#Mount Drive\n",
        "from google.colab import drive\n",
        "drive.mount('/content/drive')"
      ],
      "metadata": {
        "id": "4CkvbW_SlZ_R"
      },
      "execution_count": null,
      "outputs": []
    },
    {
      "cell_type": "code",
      "source": [
        "# Load Dataset\n",
        "telecom_df = pd.read_csv('drive/My Drive/Telecom Churn.csv')\n",
        "telecom_df"
      ],
      "metadata": {
        "id": "v9j8A0mb2DcT"
      },
      "execution_count": null,
      "outputs": []
    },
    {
      "cell_type": "markdown",
      "source": [
        "### Dataset First View"
      ],
      "metadata": {
        "id": "x71ZqKXriCWQ"
      }
    },
    {
      "cell_type": "code",
      "source": [
        "# Dataset First Look\n",
        "telecom_df.head()"
      ],
      "metadata": {
        "id": "LWNFOSvLl09H"
      },
      "execution_count": null,
      "outputs": []
    },
    {
      "cell_type": "markdown",
      "source": [
        "### Dataset Rows & Columns count"
      ],
      "metadata": {
        "id": "7hBIi_osiCS2"
      }
    },
    {
      "cell_type": "code",
      "source": [
        "# Dataset Rows & Columns count\n",
        "telecom_df.shape"
      ],
      "metadata": {
        "id": "Kllu7SJgmLij"
      },
      "execution_count": null,
      "outputs": []
    },
    {
      "cell_type": "markdown",
      "source": [
        "### Dataset Information"
      ],
      "metadata": {
        "id": "JlHwYmJAmNHm"
      }
    },
    {
      "cell_type": "code",
      "source": [
        "# Dataset Info\n",
        "telecom_df.info()"
      ],
      "metadata": {
        "id": "e9hRXRi6meOf"
      },
      "execution_count": null,
      "outputs": []
    },
    {
      "cell_type": "markdown",
      "source": [
        "#### Duplicate Values"
      ],
      "metadata": {
        "id": "35m5QtbWiB9F"
      }
    },
    {
      "cell_type": "code",
      "source": [
        "# Dataset Duplicate Value Count\n",
        "telecom_df.duplicated().sum()"
      ],
      "metadata": {
        "id": "1sLdpKYkmox0"
      },
      "execution_count": null,
      "outputs": []
    },
    {
      "cell_type": "markdown",
      "source": [
        "#### Missing Values/Null Values"
      ],
      "metadata": {
        "id": "PoPl-ycgm1ru"
      }
    },
    {
      "cell_type": "code",
      "source": [
        "# Missing Values/Null Values Count\n",
        "telecom_df.isnull().sum()"
      ],
      "metadata": {
        "id": "GgHWkxvamxVg"
      },
      "execution_count": null,
      "outputs": []
    },
    {
      "cell_type": "code",
      "source": [
        "# Visualizing the missing values\n",
        "sns.heatmap(telecom_df.isnull())"
      ],
      "metadata": {
        "id": "3q5wnI3om9sJ"
      },
      "execution_count": null,
      "outputs": []
    },
    {
      "cell_type": "markdown",
      "source": [
        "### What did you know about your dataset?"
      ],
      "metadata": {
        "id": "H0kj-8xxnORC"
      }
    },
    {
      "cell_type": "markdown",
      "source": [
        "The dataset provided comes from the telecom sector. This dataset includes 20 columns and 3333 rows of customer activity data, including call, plan, and area code characteristics, as well as churn labels that indicate whether the user canceled their contract. The dataset is free of duplicate and missing values."
      ],
      "metadata": {
        "id": "gfoNAAC-nUe_"
      }
    },
    {
      "cell_type": "markdown",
      "source": [
        "## ***2. Understanding Your Variables***"
      ],
      "metadata": {
        "id": "nA9Y7ga8ng1Z"
      }
    },
    {
      "cell_type": "code",
      "source": [
        "# Dataset Columns\n",
        "telecom_df.columns"
      ],
      "metadata": {
        "id": "j7xfkqrt5Ag5"
      },
      "execution_count": null,
      "outputs": []
    },
    {
      "cell_type": "code",
      "source": [
        "# Dataset Describe\n",
        "telecom_df.describe()"
      ],
      "metadata": {
        "id": "DnOaZdaE5Q5t"
      },
      "execution_count": null,
      "outputs": []
    },
    {
      "cell_type": "markdown",
      "source": [
        "### Variables Description"
      ],
      "metadata": {
        "id": "PBTbrJXOngz2"
      }
    },
    {
      "cell_type": "markdown",
      "source": [
        "* **State:** All 51 states\n",
        "* **Account Length:** How long account has been active\n",
        "\n",
        "* **Area Code:** Code Number of Area\n",
        "* **lntl Plan:** International plan activated ( yes, no )\n",
        "* **VMail Plan:** Voice Mail plan activated ( yes ,no )\n",
        "* **VMail Message:** No.of voice mail messages\n",
        "* **Day Mins:** Total day minutes used\n",
        "* **Day calls:** Total day calls made\n",
        "* **Day Charge:** Total day charge\n",
        "\n",
        "* **Eve Mins:** Total evening minutes\n",
        "\n",
        "* **Eve Calls:** Total evening calls\n",
        "\n",
        "* **Eve Charge:** Total evening charge\n",
        "\n",
        "* **Night Mins:** Total night minutes\n",
        "\n",
        "* **Night Calls:** Total night calls\n",
        "\n",
        "* **Night Charge:** Total night charge\n",
        "\n",
        "* **Intl Mins:** Total International minutes used\n",
        "\n",
        "* **Intl Calls:** Total International calls made\n",
        "\n",
        "* **Intl Charge:** Total International charge\n",
        "\n",
        "* **CustServ calls:** Number of customer service calls made\n",
        "\n",
        "* **Churn:** Customer churn (Target Variable True=1, False=0)"
      ],
      "metadata": {
        "id": "aJV4KIxSnxay"
      }
    },
    {
      "cell_type": "markdown",
      "source": [
        "### Check Unique Values for each variable."
      ],
      "metadata": {
        "id": "u3PMJOP6ngxN"
      }
    },
    {
      "cell_type": "code",
      "source": [
        "# Check Unique Values for each variable.\n",
        "for i in telecom_df.columns:\n",
        "  print(\"No. of unique values in \",i,\"is\", telecom_df[i].nunique())"
      ],
      "metadata": {
        "id": "zms12Yq5n-jE"
      },
      "execution_count": null,
      "outputs": []
    },
    {
      "cell_type": "markdown",
      "source": [
        "## 3. ***Data Wrangling***"
      ],
      "metadata": {
        "id": "dauF4eBmngu3"
      }
    },
    {
      "cell_type": "markdown",
      "source": [
        "### Data Wrangling Code"
      ],
      "metadata": {
        "id": "bKJF3rekwFvQ"
      }
    },
    {
      "cell_type": "code",
      "source": [
        "# Write your code to make your dataset analysis ready.\n",
        "print(\"No. of customers Churning :\",telecom_df[telecom_df['Churn']==True].Churn.count()) # Total No of Customers Churning\n",
        "\n",
        "# Variable Assigning to churned data\n",
        "churn_df = telecom_df[telecom_df['Churn']==True]\n",
        "\n",
        "# Total No of Unique Area Code\n",
        "print(\"No of Unique Area Code :\", telecom_df['Area code'].nunique())\n",
        "\n",
        "# Customers On which Internaltion plan is activated\n",
        "print(\"No of customer with international plan activated :\", telecom_df[telecom_df['International plan']=='Yes']['International plan'].count())\n",
        "\n",
        "# Customers On which Voice mail plan is activated\n",
        "print(\"No of customer with Voice mail plan activated :\", telecom_df[telecom_df['Voice mail plan']=='Yes']['Voice mail plan'].count())\n",
        "\n",
        "churn_df"
      ],
      "metadata": {
        "id": "wk-9a2fpoLcV"
      },
      "execution_count": null,
      "outputs": []
    },
    {
      "cell_type": "code",
      "source": [
        "print(\"No. of customers Churning :\",telecom_df[telecom_df['Churn']==True].Churn.count()) # Total No of Customers Churning\n",
        "\n",
        "# Variable Assigning to churned data\n",
        "churn_df = telecom_df[telecom_df['Churn']==True]\n",
        "\n",
        "# Total No of Unique Area Code\n",
        "print(\"No of Unique Area Code :\", telecom_df['Area code'].nunique())\n",
        "\n",
        "# Customers On which Internaltion plan is activated\n",
        "print(\"No of customer with international plan activated :\", telecom_df[telecom_df['International plan']=='Yes']['International plan'].count())\n",
        "\n",
        "# Customers On which Voice mail plan is activated\n",
        "print(\"No of customer with Voice mail plan activated :\", telecom_df[telecom_df['Voice mail plan']=='Yes']['Voice mail plan'].count())\n",
        "\n",
        "churn_df"
      ],
      "metadata": {
        "id": "FNBfUmG25Ao9"
      },
      "execution_count": null,
      "outputs": []
    },
    {
      "cell_type": "code",
      "source": [
        "# % of total customers churning\n",
        "print(\"Total no. of customers :\", telecom_df.Churn.count())\n",
        "perc_churn = (churn_df.Churn.count()/telecom_df.Churn.count())*100\n",
        "print(f\"Percentage of customer churning : {round(perc_churn,2)}%\")"
      ],
      "metadata": {
        "id": "0sQRHpGr5QYN"
      },
      "execution_count": null,
      "outputs": []
    },
    {
      "cell_type": "code",
      "source": [
        "#Statewise customer churning\n",
        "state_cust_churn = churn_df.groupby(['State'])['Churn'].value_counts().reset_index(name='Churn_customer')\n",
        "print(state_cust_churn.sum())\n",
        "state_cust_churn"
      ],
      "metadata": {
        "id": "XVt9tg9N5Wpd"
      },
      "execution_count": null,
      "outputs": []
    },
    {
      "cell_type": "code",
      "source": [
        "# Account length wise churn data\n",
        "acc_len_churn = churn_df.groupby(['Account length'])['Churn'].value_counts().reset_index(name='values')\n",
        "print(acc_len_churn.sum())\n",
        "acc_len_churn"
      ],
      "metadata": {
        "id": "utS7VZJh5bpc"
      },
      "execution_count": null,
      "outputs": []
    },
    {
      "cell_type": "code",
      "source": [
        "# Area Code wise churn Percentage\n",
        "Area_code_churn_perc = (telecom_df.groupby(['Area code'])['Churn'].mean()*100).reset_index()\n",
        "Area_code_churn_perc"
      ],
      "metadata": {
        "id": "Z2dX5zFJ5g_L"
      },
      "execution_count": null,
      "outputs": []
    },
    {
      "cell_type": "code",
      "source": [
        "# Area code wise Churn Count\n",
        "Area_code_churn_count = churn_df.groupby(['Area code'])['Churn'].value_counts().reset_index(name='Counts')\n",
        "Area_code_churn_count"
      ],
      "metadata": {
        "id": "Rj0xUM5K5kXt"
      },
      "execution_count": null,
      "outputs": []
    },
    {
      "cell_type": "code",
      "source": [
        "#Poor Connectivity by intersection of state by area code\n",
        "Area_state_churn = churn_df.groupby(['Area code'])['State'].unique().reset_index(name='Unique state')\n",
        "Area_state_churn"
      ],
      "metadata": {
        "id": "Ri4SKl9T5kNV"
      },
      "execution_count": null,
      "outputs": []
    },
    {
      "cell_type": "code",
      "source": [
        "# Assigning the list of state of each area\n",
        "Area_408_state_churn = Area_state_churn.loc[0,'Unique state']\n",
        "Area_415_state_churn = Area_state_churn.loc[1,'Unique state']\n",
        "Area_510_state_churn = Area_state_churn.loc[2,'Unique state']\n",
        "\n",
        "inter_1= set(Area_408_state_churn).intersection(set(Area_415_state_churn))\n",
        "poor_connectivity_states = set(inter_1).intersection(set(Area_510_state_churn))\n",
        "\n",
        "print(f\"Intersection by different areas code of churning gives {len(poor_connectivity_states)} poor connectivity states\")\n",
        "print(\"Try to short down the list of state by different dataset to generate more precise poor connectivity states\")"
      ],
      "metadata": {
        "id": "VKppQd3e52kl"
      },
      "execution_count": null,
      "outputs": []
    },
    {
      "cell_type": "code",
      "source": [
        "# Percentage of Customers with and without international Plan churning to other networks\n",
        "intl_plan_churn = (telecom_df.groupby(['International plan'])['Churn'].mean()*100).reset_index(name='Churn %')\n",
        "print(intl_plan_churn)\n",
        "\n",
        "# Total number of Customers churning with international plan\n",
        "churn_intl_yes = churn_df[churn_df['International plan']=='Yes']\n",
        "print(f\"No of Customers churning having International plan is {churn_intl_yes['International plan'].value_counts()[0]}\")\n",
        "\n",
        "# Total number of Customers churning without international plan\n",
        "churn_intl_no = churn_df[churn_df['International plan']=='No']\n",
        "print(f\"No of Customers churning without having International plan is {churn_intl_no['International plan'].value_counts()[0]}\")"
      ],
      "metadata": {
        "id": "vni4TtRR559Y"
      },
      "execution_count": null,
      "outputs": []
    },
    {
      "cell_type": "code",
      "source": [
        "# Percentage of People with and without Voice mail Plan churning to other networks\n",
        "vmail_plan_churn = (telecom_df.groupby(['Voice mail plan'])['Churn'].mean()*100).reset_index(name='Churn %')\n",
        "print(vmail_plan_churn)\n",
        "\n",
        "# Total number of people churning with vmail plan\n",
        "churn_vmail_yes = churn_df[churn_df['Voice mail plan']=='Yes']\n",
        "print(f\"No of Customers churning having vmail plan is {churn_vmail_yes['Voice mail plan'].value_counts()[0]}\")\n",
        "\n",
        "# Total number of people churning without vmail plan\n",
        "churn_vmail_no = churn_df[churn_df['Voice mail plan']=='No']\n",
        "print(f\"No of Customers churning not having vmail plan is {churn_vmail_no['Voice mail plan'].value_counts()[0]}\")"
      ],
      "metadata": {
        "id": "5VtN7tiH59n4"
      },
      "execution_count": null,
      "outputs": []
    },
    {
      "cell_type": "code",
      "source": [
        "# Customers churning having intl plan and vmail plan\n",
        "intl_vmail_yes = churn_df[(churn_df['International plan'] == 'Yes') & (churn_df['Voice mail plan'] == 'Yes')]\n",
        "if len(intl_vmail_yes) > 0:\n",
        "    print(f\"No of Customers churning having intl and vmail plan are {intl_vmail_yes['Churn'].value_counts().get(1, 0)}\")\n",
        "else:\n",
        "    print(\"No customers churning with both intl plan and vmail plan.\")\n",
        "\n",
        "# Customers churning having no intl plan and no vmail plan\n",
        "intl_vmail_no = churn_df[(churn_df['International plan'] == 'No') & (churn_df['Voice mail plan'] == 'No')]\n",
        "if len(intl_vmail_no) > 0:\n",
        "    print(f\"No of Customers churning having no intl plan and no vmail plan are {intl_vmail_no['Churn'].value_counts().get(1, 0)}\")\n",
        "else:\n",
        "    print(\"No customers churning with neither intl plan nor vmail plan.\")\n",
        "\n",
        "# Customers churning having intl plan but no vmail plan\n",
        "intl_yes_vmail_no = churn_df[(churn_df['International plan'] == 'Yes') & (churn_df['Voice mail plan'] == 'No')]\n",
        "if len(intl_yes_vmail_no) > 0:\n",
        "    print(f\"No of Customers churning having intl plan but no vmail plan are {intl_yes_vmail_no['Churn'].value_counts().get(1, 0)}\")\n",
        "else:\n",
        "    print(\"No customers churning with intl plan but no vmail plan.\")\n",
        "\n",
        "# Customers churning having no intl plan but vmail plan\n",
        "intl_no_vmail_yes = churn_df[(churn_df['International plan'] == 'No') & (churn_df['Voice mail plan'] == 'Yes')]\n",
        "if len(intl_no_vmail_yes) > 0:\n",
        "    print(f\"No of Customers churning having no intl plan but vmail plan are {intl_no_vmail_yes['Churn'].value_counts().get(1, 0)}\")\n",
        "else:\n",
        "    print(\"No customers churning with no intl plan but vmail plan.\")"
      ],
      "metadata": {
        "id": "I9ERkoX86y3W"
      },
      "execution_count": null,
      "outputs": []
    },
    {
      "cell_type": "code",
      "source": [
        "# Poor Connectivity States\n",
        "# States Sorted with respect to international and voice mail plan\n",
        "state_intl_vmail_yes=intl_vmail_yes['State'].unique()\n",
        "state_intl_vmail_no =intl_vmail_no['State'].unique()\n",
        "state_intl_yes_vmail_no= intl_yes_vmail_no['State'].unique()\n",
        "state_intl_no_vmail_yes= intl_no_vmail_yes['State'].unique()\n",
        "\n",
        "# Intersection of 4 types of plan made\n",
        "inter_1 = set(state_intl_vmail_yes).intersection(set(state_intl_vmail_no))\n",
        "inter_2 = set(state_intl_yes_vmail_no).intersection(set(state_intl_no_vmail_yes))\n",
        "Intersection =set(inter_1).intersection(set(inter_2))\n",
        "print(f\"List of poor connectivity states are : {list(Intersection)}\")"
      ],
      "metadata": {
        "id": "nTx5b0dE62Cz"
      },
      "execution_count": null,
      "outputs": []
    },
    {
      "cell_type": "code",
      "source": [
        "# Percentage of People with number of Voice mail messages churning/not-churning to other networks\n",
        "vmail_mssg_churn = telecom_df.groupby(['Churn'])['Number vmail messages'].mean().reset_index(name='perc_vmail_mssg')\n",
        "vmail_mssg_churn"
      ],
      "metadata": {
        "id": "5mViZi1d659j"
      },
      "execution_count": null,
      "outputs": []
    },
    {
      "cell_type": "code",
      "source": [
        "# Day Data\n",
        "# Percentage of people churning with the average day mins,calls and charge.\n",
        "telecom_df.groupby(['Churn'])['Total day minutes'].mean().reset_index(name='perc_day_mins')"
      ],
      "metadata": {
        "id": "dziBrCxT7CnU"
      },
      "execution_count": null,
      "outputs": []
    },
    {
      "cell_type": "code",
      "source": [
        "telecom_df.groupby(['Churn'])['Total day calls'].mean().reset_index(name='perc_day_calls')"
      ],
      "metadata": {
        "id": "-dy6tZHS7FYz"
      },
      "execution_count": null,
      "outputs": []
    },
    {
      "cell_type": "code",
      "source": [
        "telecom_df.groupby(['Churn'])['Total day charge'].mean().reset_index(name='perc_day_charge')"
      ],
      "metadata": {
        "id": "9I5D3WIG7IJs"
      },
      "execution_count": null,
      "outputs": []
    },
    {
      "cell_type": "code",
      "source": [
        "# Evening Data\n",
        "# Percentage of people churning with the average Evening mins,calls and charge.\n",
        "telecom_df.groupby(['Churn'])['Total eve minutes'].mean().reset_index(name='perc_eve_mins')"
      ],
      "metadata": {
        "id": "2eJbSgFz7Ku-"
      },
      "execution_count": null,
      "outputs": []
    },
    {
      "cell_type": "code",
      "source": [
        "telecom_df.groupby(['Churn'])['Total eve calls'].mean().reset_index(name='perc_eve_calls')"
      ],
      "metadata": {
        "id": "mhFM2jMQ7NR1"
      },
      "execution_count": null,
      "outputs": []
    },
    {
      "cell_type": "code",
      "source": [
        "telecom_df.groupby(['Churn'])['Total eve charge'].mean().reset_index(name='perc_eve_charge')"
      ],
      "metadata": {
        "id": "crwTaDDf7QJf"
      },
      "execution_count": null,
      "outputs": []
    },
    {
      "cell_type": "code",
      "source": [
        "# Night Data\n",
        "# Percentage of people churning with the average Night mins,calls and charge.\n",
        "telecom_df.groupby(['Churn'])['Total night minutes'].mean().reset_index(name='perc_night_mins')"
      ],
      "metadata": {
        "id": "c9554Huk7Sl7"
      },
      "execution_count": null,
      "outputs": []
    },
    {
      "cell_type": "code",
      "source": [
        "telecom_df.groupby(['Churn'])['Total night calls'].mean().reset_index(name='perc_night_calls')"
      ],
      "metadata": {
        "id": "uaw6IkZ87U6c"
      },
      "execution_count": null,
      "outputs": []
    },
    {
      "cell_type": "code",
      "source": [
        "telecom_df.groupby(['Churn'])['Total night charge'].mean().reset_index(name='perc_night_charge')"
      ],
      "metadata": {
        "id": "SE_RHEJQ7XW9"
      },
      "execution_count": null,
      "outputs": []
    },
    {
      "cell_type": "code",
      "source": [
        "# Intl Call Data\n",
        "# Percentage of people churning with the average international mins,calls and charge.\n",
        "telecom_df.groupby(['Churn'])['Total intl minutes'].mean().reset_index(name='perc_intl_mins')"
      ],
      "metadata": {
        "id": "u5BuumcN7c9O"
      },
      "execution_count": null,
      "outputs": []
    },
    {
      "cell_type": "code",
      "source": [
        "telecom_df.groupby(['Churn'])['Total intl calls'].mean().reset_index(name='perc_intl_calls')"
      ],
      "metadata": {
        "id": "AxBQd2Ou7gQb"
      },
      "execution_count": null,
      "outputs": []
    },
    {
      "cell_type": "code",
      "source": [
        "telecom_df.groupby(['Churn'])['Total intl charge'].mean().reset_index(name='perc_intl_charge')"
      ],
      "metadata": {
        "id": "UOvEo_la7jYM"
      },
      "execution_count": null,
      "outputs": []
    },
    {
      "cell_type": "code",
      "source": [
        "# Combining of day,evening and night calls, mins and charges\n",
        "telecom_df['Total calls'] = telecom_df.loc[:,['Total day calls','Total eve calls', 'Total night calls']].sum(axis=1)\n",
        "telecom_df['Total mins'] = telecom_df.loc[:,['Total day minutes','Total eve minutes', 'Total night minutes']].sum(axis=1)\n",
        "telecom_df['Total charge'] = telecom_df.loc[:,['Total day charge','Total eve charge', 'Total night charge']].sum(axis=1)\n",
        "\n",
        "# mins per call\n",
        "telecom_df['min_per_call'] = telecom_df['Total mins']/telecom_df['Total calls']\n",
        "\n",
        "#charge per min\n",
        "telecom_df['charge_per_min'] = telecom_df['Total charge']/telecom_df['Total mins']\n",
        "\n",
        "# International mins per call\n",
        "telecom_df['Intl_min_per_call'] = telecom_df['Total intl minutes']/telecom_df['Total intl calls']\n",
        "\n",
        "#International charge per min\n",
        "telecom_df['Intl_charge_per_min'] = telecom_df['Total intl charge']/telecom_df['Total intl minutes']"
      ],
      "metadata": {
        "id": "e_-GcVBW75CD"
      },
      "execution_count": null,
      "outputs": []
    },
    {
      "cell_type": "code",
      "source": [
        "# Customer Service Call data\n",
        "print(\"No of unique service calls made :\", telecom_df['Customer service calls'].nunique())\n",
        "\n",
        "# Percentage of churning based on the customer service calls made\n",
        "(telecom_df.groupby(['Customer service calls'])['Churn'].mean()*100).reset_index(name='Perc_churned')"
      ],
      "metadata": {
        "id": "5Fg6anqY79gF"
      },
      "execution_count": null,
      "outputs": []
    },
    {
      "cell_type": "markdown",
      "source": [],
      "metadata": {
        "id": "-KkHapNj8Wlf"
      }
    },
    {
      "cell_type": "markdown",
      "source": [
        "### What all manipulations have you done and insights you found?"
      ],
      "metadata": {
        "id": "MSa1f5Uengrz"
      }
    },
    {
      "cell_type": "markdown",
      "source": [
        "In data wrangling the first thing we did is to find out how customers have churn and how many are not and their rate. We know that plotting charts will give us more visual representation. So from this we got to know that there are ~14.5 % churn customers are there."
      ],
      "metadata": {
        "id": "_OrIVAl-8WEf"
      }
    },
    {
      "cell_type": "markdown",
      "source": [
        "**Churn on basis of international plan**\n",
        "\n",
        "In this we found out that those who has international plan their churn rate is higher, almost 42.41 % customers are churned.\n",
        "\n",
        "**Churn on basis of International & Voice mail plan**\n",
        "\n",
        "Total Customer churn are :- 483"
      ],
      "metadata": {
        "id": "2rulXNqY8yHJ"
      }
    },
    {
      "cell_type": "markdown",
      "source": [
        "## ***4. Data Vizualization, Storytelling & Experimenting with charts : Understand the relationships between variables***"
      ],
      "metadata": {
        "id": "GF8Ens_Soomf"
      }
    },
    {
      "cell_type": "markdown",
      "source": [
        "#### Chart - 1 Visualization of Dependent Variable"
      ],
      "metadata": {
        "id": "0wOQAZs5pc--"
      }
    },
    {
      "cell_type": "code",
      "source": [
        "## Chart - 1  Dependent Column Value Counts\n",
        "print(telecom_df.Churn.value_counts())\n",
        "print(\" \")\n",
        "\n",
        "# Dependent Variable Column Visualization\n",
        "telecom_df['Churn'].value_counts().plot( kind='pie',figsize=(10,6),\n",
        "                                        autopct=\"%1.1f%%\",\n",
        "startangle=50,\n",
        "shadow=True,\n",
        "labels=['Not Churn(%)','Churn(%)'],\n",
        "colors=['green','red'],explode=[0.12,0])\n",
        "plt.title('Total Percentage of Churn')\n",
        "\n",
        "# Displaying chart\n",
        "plt.show()\n"
      ],
      "metadata": {
        "id": "7v_ESjsspbW7"
      },
      "execution_count": null,
      "outputs": []
    },
    {
      "cell_type": "markdown",
      "source": [
        "##### 1. Why did you pick the specific chart?"
      ],
      "metadata": {
        "id": "K5QZ13OEpz2H"
      }
    },
    {
      "cell_type": "markdown",
      "source": [
        "Pie charts are particularly helpful for displaying data that has already been calculated as a percentage of the entire. They are typically used to depict the proportions of a whole. They are a useful tool for clearly and aesthetically appealingly displaying data quantities or percentages."
      ],
      "metadata": {
        "id": "XESiWehPqBRc"
      }
    },
    {
      "cell_type": "markdown",
      "source": [
        "##### 2. What is/are the insight(s) found from the chart?"
      ],
      "metadata": {
        "id": "lQ7QKXXCp7Bj"
      }
    },
    {
      "cell_type": "markdown",
      "source": [
        "We can see from the above graphic that, out of the total customer data provided in the dataset, 2850 consumers, or 85.5% of the total, are not churned. On the other side, 483 customers—or 14.5% of all the customers in the dataset—are churned.\n",
        "\n",
        "Although 14.5% of consumers leave, this may not seem like much, but it was 1.45% at one point, and it has since increased to 14.5%. Thus, quick action is required."
      ],
      "metadata": {
        "id": "C_j1G7yiqdRP"
      }
    },
    {
      "cell_type": "markdown",
      "source": [
        "##### 3. Will the gained insights help creating a positive business impact?\n",
        "Are there any insights that lead to negative growth? Justify with specific reason."
      ],
      "metadata": {
        "id": "448CDAPjqfQr"
      }
    },
    {
      "cell_type": "markdown",
      "source": [
        "In a perfect world, the telecom industry's customer attrition rate would be between 15% and 20%. Although our churn rate of 14.5% is not large, losing customers is nonetheless detrimental to a firm.\n",
        "\n",
        "Gaining clients is too difficult, while losing them is too easy. Three to four potential consumers that your teleservice provider might be able to recruit using the \"POWER OF WORDS\" will be lost by one unhappy customer.\n",
        "\n",
        "Thus, understanding the turnover rate is undoubtedly useful for making future judgments."
      ],
      "metadata": {
        "id": "3cspy4FjqxJW"
      }
    },
    {
      "cell_type": "markdown",
      "source": [
        "#### Chart - 2 Column wise Histogram and Box Plot (Univariate)"
      ],
      "metadata": {
        "id": "KSlN3yHqYklG"
      }
    },
    {
      "cell_type": "code",
      "source": [
        "# Chart - 2 Visualizing code of histogram plot & boxplot for each columns to know the data distribution\n",
        "for col in telecom_df.describe().columns:\n",
        "    fig,axes = plt.subplots(nrows=1,ncols=2,figsize=(18,6))\n",
        "    sns.histplot(telecom_df[col], ax = axes[0],kde = True)\n",
        "    sns.boxplot(telecom_df[col], ax = axes[1],orient='h',showmeans=True,color='pink')\n",
        "    fig.suptitle(\"Distribution plot of \"+ col, fontsize = 15)\n",
        "    plt.show()"
      ],
      "metadata": {
        "id": "R4YgtaqtYklH"
      },
      "execution_count": null,
      "outputs": []
    },
    {
      "cell_type": "markdown",
      "source": [
        "##### 1. Why did you pick the specific chart?"
      ],
      "metadata": {
        "id": "t6dVpIINYklI"
      }
    },
    {
      "cell_type": "markdown",
      "source": [
        "Histograms are used when the objective is to display the distribution of a single variable. One kind of bar chart that shows the frequency or count of data points within specific ranges is called a histogram. When displaying continuous data, like age, height, weight, or income, histograms are especially helpful. They can assist you in seeing patterns or trends in the data and show you how the distribution is shaped, including any skewness or outliers.\n",
        "\n",
        "\n",
        "When comparing the distributions of two or more datasets, box plots are helpful because they show variations or similarities in the data's central tendency and dispersion.Box plots, sometimes referred to as box-and-whisker plots, are a kind of data visualization that show a dataset's distribution and give an overview of its most important statistical characteristics."
      ],
      "metadata": {
        "id": "5aaW0BYyYklI"
      }
    },
    {
      "cell_type": "markdown",
      "source": [
        "##### 2. What is/are the insight(s) found from the chart?"
      ],
      "metadata": {
        "id": "ijmpgYnKYklI"
      }
    },
    {
      "cell_type": "markdown",
      "source": [
        "The aforementioned distribution charts show that, for numerical columns, the mean and median are almost equal and that all columns are symmetric distributed. Since there are only three entries in this specific column, the area code will be regarded as a categorical value in this case."
      ],
      "metadata": {
        "id": "PSx9atu2YklI"
      }
    },
    {
      "cell_type": "markdown",
      "source": [
        "##### 3. Will the gained insights help creating a positive business impact?\n",
        "Are there any insights that lead to negative growth? Justify with specific reason."
      ],
      "metadata": {
        "id": "-JiQyfWJYklI"
      }
    },
    {
      "cell_type": "markdown",
      "source": [
        "Exist any insights that result in growth that is not positive? Provide a specific justification.\n",
        "\n",
        "The information about the data cannot be fully obtained from a histogram or box plot. The purpose of it is to view the column data distribution across the dataset."
      ],
      "metadata": {
        "id": "BcBbebzrYklV"
      }
    },
    {
      "cell_type": "markdown",
      "source": [
        "#### Chart - 3 State vs Average True churn percentage"
      ],
      "metadata": {
        "id": "EM7whBJCYoAo"
      }
    },
    {
      "cell_type": "code",
      "source": [
        "# Chart - 3  State vs. average true churn percentage visualization code\n",
        "\n",
        "# Vizualizing top 10 churned state\n",
        "plt.figure(figsize=(10,5))\n",
        "bar1 = ((telecom_df.groupby(['State'])['Churn'].mean()*100).sort_values(ascending = False).reset_index(name=\"Average True Churn \").head(10))\n",
        "plots = sns.barplot(data = bar1, x = 'State', y=\"Average True Churn \")\n",
        "for bar in plots.patches:\n",
        "  plots.annotate(format(bar.get_height(),'.2f'),\n",
        "                   (bar.get_x() + bar.get_width() / 2,\n",
        "                    bar.get_height()), ha='center', va='center',\n",
        "                   size=12, xytext=(0, 8),\n",
        "                   textcoords='offset points')\n",
        "\n",
        "plt.title(\" State with most churn percentage\", fontsize = 20)\n",
        "plt.xlabel('State', fontsize = 15)\n",
        "plt.ylabel('Percentage (%)', fontsize = 15)\n",
        "# Setting limit of the y axis from 0 to 30\n",
        "plt.ylim(0,30)\n",
        "plt.show()"
      ],
      "metadata": {
        "id": "t6GMdE67YoAp"
      },
      "execution_count": null,
      "outputs": []
    },
    {
      "cell_type": "markdown",
      "source": [
        "##### 1. Why did you pick the specific chart?"
      ],
      "metadata": {
        "id": "fge-S5ZAYoAp"
      }
    },
    {
      "cell_type": "markdown",
      "source": [
        "When comparing the size or frequency of various categories or groups of data, bar charts are utilized. Bar charts can be used to display a lot of data in a short area and are helpful for comparing data across different categories.\n",
        "\n",
        "We have created a bar chart to display the average percentage of true churn by state."
      ],
      "metadata": {
        "id": "5dBItgRVYoAp"
      }
    },
    {
      "cell_type": "markdown",
      "source": [
        "##### 2. What is/are the insight(s) found from the chart?"
      ],
      "metadata": {
        "id": "85gYPyotYoAp"
      }
    },
    {
      "cell_type": "markdown",
      "source": [
        "The rates of churn vary throughout the 51 states.\n",
        "\n",
        "States with higher churn rates than 20%—more than 50% of the average—are **CA, NJ, TX, MD, SC, MI, MS, NV, WA, and ME.**\n",
        "\n",
        "Additionally, the states with lower churn rates—**HI, AK, AZ, VA, IA, LA, NE, IL, WI, and RI**—are those with churn rates under 10%."
      ],
      "metadata": {
        "id": "4jstXR6OYoAp"
      }
    },
    {
      "cell_type": "markdown",
      "source": [
        "##### 3. Will the gained insights help creating a positive business impact?\n",
        "Are there any insights that lead to negative growth? Justify with specific reason."
      ],
      "metadata": {
        "id": "RoGjAbkUYoAp"
      }
    },
    {
      "cell_type": "markdown",
      "source": [
        "Indeed, the state-by-state churning data shows that many states have average churn rates over 20%. These states should be investigated further to determine the factors behind the churn."
      ],
      "metadata": {
        "id": "zfJ8IqMcYoAp"
      }
    },
    {
      "cell_type": "markdown",
      "source": [
        "#### Chart - 4 Account Length with Churn"
      ],
      "metadata": {
        "id": "4Of9eVA-YrdM"
      }
    },
    {
      "cell_type": "code",
      "source": [
        "# Chart - 4  One Digit Account Length\n",
        "one_length = telecom_df[telecom_df['Account length']<=9].loc[:,['Churn']].value_counts()\n",
        "print(one_length)\n",
        "print(\" \")\n",
        "\n",
        "# Visualizing One Digit Account Length Based on Churn percentage\n",
        "#color palette selection\n",
        "colors = sns.color_palette('pastel')[0:7]\n",
        "textprops = {'fontsize':13}\n",
        "\n",
        "plt.figure(figsize=(15,7))\n",
        "# plotting pie chart\n",
        "plt.pie(one_length, labels=['Not Churn(%)','Churn(%)'], startangle=90, colors=colors, autopct=\"%1.1f%%\",textprops = textprops)\n",
        "plt.title('One Digit Account Length churn rate', fontsize=18)\n",
        "plt.show()"
      ],
      "metadata": {
        "id": "irlUoxc8YrdO"
      },
      "execution_count": null,
      "outputs": []
    },
    {
      "cell_type": "code",
      "source": [
        "# Two Digit Account Length\n",
        "two_account=telecom_df[(telecom_df['Account length']<=99) & (telecom_df['Account length']>=10)].loc[:,['Churn']].value_counts()\n",
        "print(two_account)\n",
        "print(\" \")\n",
        "\n",
        "# Visualizing Two Digit Account Length Based on Churn percentage\n",
        "#color palette selection\n",
        "colors = sns.color_palette('pastel')[0:7]\n",
        "textprops = {'fontsize':13}\n",
        "\n",
        "plt.figure(figsize=(15,7))\n",
        "# plotting pie chart\n",
        "plt.pie(two_account, labels=['Not Churn(%)','Churn(%)'], startangle=90, colors=colors, autopct=\"%1.1f%%\", textprops = textprops)\n",
        "plt.title('Two Digit Account Length churn rate', fontsize=18)\n",
        "plt.show()"
      ],
      "metadata": {
        "id": "CV89X_YBuEY4"
      },
      "execution_count": null,
      "outputs": []
    },
    {
      "cell_type": "code",
      "source": [
        "# Three Digit Account Length\n",
        "three_account=telecom_df[(telecom_df['Account length']<=telecom_df['Account length'].max()) & (telecom_df['Account length']>=100)].loc[:,['Churn']].value_counts()\n",
        "print(three_account)\n",
        "print(\" \")\n",
        "\n",
        "# Visualizing Three Digit Account Length Based on Churn percentage\n",
        "#color palette selection\n",
        "colors = sns.color_palette('pastel')[0:7]\n",
        "textprops = {'fontsize':13}\n",
        "\n",
        "plt.figure(figsize=(15,7))\n",
        "# plotting data on chart using seaborn\n",
        "plt.pie(three_account, labels=['Not Churn(%)','Churn(%)'],startangle=90 , colors=colors, autopct=\"%1.1f%%\",textprops = textprops)\n",
        "plt.title('Three Digit Account Length churn rate', fontsize=18)\n",
        "plt.show()"
      ],
      "metadata": {
        "id": "Ka2vwcunuJIn"
      },
      "execution_count": null,
      "outputs": []
    },
    {
      "cell_type": "code",
      "source": [
        "# Box Plot for Account Length attribute\n",
        "plt.figure(figsize=(10,8))\n",
        "sns.boxplot(data=telecom_df, x='Churn', y='Account length', showmeans = True)\n",
        "plt.title('Account Length Boxplot with Churn', fontsize=18)\n",
        "plt.show()"
      ],
      "metadata": {
        "id": "w-zAdYyfuMYw"
      },
      "execution_count": null,
      "outputs": []
    },
    {
      "cell_type": "markdown",
      "source": [
        "##### 1. Why did you pick the specific chart?"
      ],
      "metadata": {
        "id": "iky9q4vBYrdO"
      }
    },
    {
      "cell_type": "markdown",
      "source": [
        "Pie charts are particularly helpful for displaying data that has already been calculated as a percentage of the entire. They are typically used to depict the proportions of a whole.\n",
        "\n",
        "I so created a pie chart, which enabled me to compare the churn percentage account length-wise in percentage terms.\n",
        "\n",
        "A boxplot is a single plot that displays the median, quartiles, and range of a dataset together with other important statistical details. Boxplots can be used to compare the distribution of several datasets, find out whether a dataset contains outliers, and determine how dispersed the data is. They are frequently employed in data visualization and statistical analysis.\n",
        "\n",
        "In order to obtain the maximum and minimum values, as well as the well-segregated outliers and the clearly defined mean and median, as indicated by the box plot graph, I employed a box plot."
      ],
      "metadata": {
        "id": "aJRCwT6DYrdO"
      }
    },
    {
      "cell_type": "markdown",
      "source": [
        "##### 2. What is/are the insight(s) found from the chart?"
      ],
      "metadata": {
        "id": "F6T5p64dYrdO"
      }
    },
    {
      "cell_type": "markdown",
      "source": [
        "Account Length can be divided into three categories, such as\n",
        "![image.png](data:image/png;base64,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)"
      ],
      "metadata": {
        "id": "Xx8WAJvtYrdO"
      }
    },
    {
      "cell_type": "markdown",
      "source": [
        "##### 3. Will the gained insights help creating a positive business impact?\n",
        "Are there any insights that lead to negative growth? Justify with specific reason."
      ],
      "metadata": {
        "id": "y-Ehk30pYrdP"
      }
    },
    {
      "cell_type": "markdown",
      "source": [
        "The length of an account is the number of days a customer is active. Thus, the churn rate for new clients is excessively low, at 2. and 8.3% as a percentage. They may be churning because they are dissatisfied with the service and are only utilizing the telecom service to enjoy its benefits.\n",
        "\n",
        "The churning rate for users with accounts that are between 10 and 99 days old is 14%. Customers under 50 may be regarded as new clients, while those above 55 and under 99 may not receive the benefits of the plan they have chosen.\n",
        "\n",
        "When an account has been open for more than 100 days, it is considered to be an old customer, and they may be leaving because they are not receiving any new offers, such as a power plus plan or other incentives.\n",
        "\n",
        "Thus, it is true that Account Length presents a detailed picture of changing factors and insights."
      ],
      "metadata": {
        "id": "jLNxxz7MYrdP"
      }
    },
    {
      "cell_type": "markdown",
      "source": [
        "#### Chart - 5 International Plan"
      ],
      "metadata": {
        "id": "bamQiAODYuh1"
      }
    },
    {
      "cell_type": "code",
      "source": [
        "# Chart - 5 visualization code\n",
        "\n",
        "# data for international plan\n",
        "inter_plan = telecom_df['International plan'].value_counts()\n",
        "print(inter_plan)\n",
        "print(\" \")\n",
        "\n",
        "# Visualizing Percentage of customers taken international plan\n",
        "#color palette selection\n",
        "colors = sns.color_palette('husl')[0:7]\n",
        "textprops = {'fontsize':13}\n",
        "\n",
        "plt.figure(figsize=(15,7))\n",
        "# plotting pie chart\n",
        "plt.pie(inter_plan, labels=['No','Yes'],startangle=90 , colors=colors, autopct=\"%1.1f%%\", textprops = textprops)\n",
        "plt.title('International Plan', fontsize=18)\n",
        "plt.show()"
      ],
      "metadata": {
        "id": "TIJwrbroYuh3"
      },
      "execution_count": null,
      "outputs": []
    },
    {
      "cell_type": "code",
      "source": [
        "# Assigning values for furthur charts\n",
        "i1 = telecom_df['International plan'].unique()\n",
        "i2 = telecom_df.groupby('International plan')['Churn'].mean()*100\n",
        "i3 = telecom_df.groupby(['International plan'])['Total intl charge'].mean()\n",
        "i4 = telecom_df.groupby([\"Churn\"])['Total intl minutes'].mean()"
      ],
      "metadata": {
        "id": "Dqk_LnB9ubut"
      },
      "execution_count": null,
      "outputs": []
    },
    {
      "cell_type": "code",
      "source": [
        "# Visualizing code for people churning percentage having international plan\n",
        "plt.figure(figsize=(6,7))\n",
        "plots = sns.barplot(x=i1,y=i2)\n",
        "for bar in plots.patches:\n",
        "  plots.annotate(format(bar.get_height(),'.2f'),\n",
        "                   (bar.get_x() + bar.get_width() / 2,\n",
        "                    bar.get_height()), ha='center', va='center',\n",
        "                   size=12, xytext=(0, 8),\n",
        "                   textcoords='offset points')\n",
        "\n",
        "plt.title(\" Percentage of customer churn on basis of International plan\", fontsize = 20)\n",
        "plt.xlabel('International plan', fontsize = 15)\n",
        "plt.ylabel('Percentage (%)', fontsize = 15)\n",
        "plt.ylim(0,45)\n",
        "plt.show()"
      ],
      "metadata": {
        "id": "e5gaWNc5ueOl"
      },
      "execution_count": null,
      "outputs": []
    },
    {
      "cell_type": "code",
      "source": [
        "# Visualizing code for average calling charge of customers having international plan\n",
        "plt.figure(figsize=(6,7))\n",
        "plots = sns.barplot(x=i1,y=i3)\n",
        "for bar in plots.patches:\n",
        "  plots.annotate(format(bar.get_height(),'.2f'),\n",
        "                   (bar.get_x() + bar.get_width() / 2,\n",
        "                    bar.get_height()), ha='center', va='center',\n",
        "                   size=12, xytext=(0, 8),\n",
        "                   textcoords='offset points')\n",
        "plt.title(\" Average charges on the basis of International plan\", fontsize = 20)\n",
        "plt.xlabel('International plan', fontsize = 15)\n",
        "plt.ylabel('Charges', fontsize = 15)\n",
        "plt.ylim(0,3.5)\n",
        "plt.show()"
      ],
      "metadata": {
        "id": "K3xloQ8yuiAG"
      },
      "execution_count": null,
      "outputs": []
    },
    {
      "cell_type": "code",
      "source": [
        "# Visualizing code for average minutes talked by customers having international plan\n",
        "plt.figure(figsize=(6,7))\n",
        "plots = sns.barplot(x=i1,y=i4)\n",
        "for bar in plots.patches:\n",
        "  plots.annotate(format(bar.get_height(),'.2f'),\n",
        "                   (bar.get_x() + bar.get_width() / 2,\n",
        "                    bar.get_height()), ha='center', va='center',\n",
        "                   size=12, xytext=(0, 8),\n",
        "                   textcoords='offset points')\n",
        "plt.title(\" Average International minutes on basis of international plan\", fontsize = 20)\n",
        "plt.xlabel('International Plan', fontsize = 15)\n",
        "plt.ylabel('Minutes', fontsize = 15)\n",
        "plt.ylim(0,12)\n",
        "plt.show()"
      ],
      "metadata": {
        "id": "VwooD_31uk22"
      },
      "execution_count": null,
      "outputs": []
    },
    {
      "cell_type": "markdown",
      "source": [
        "##### 1. Why did you pick the specific chart?"
      ],
      "metadata": {
        "id": "QHF8YVU7Yuh3"
      }
    },
    {
      "cell_type": "markdown",
      "source": [
        "Pie charts are particularly helpful for displaying data that has already been calculated as a percentage of the entire. They are typically used to depict the proportions of a whole.\n",
        "\n",
        "As a result, we developed a pie chart with various colored areas underneath circles to display the percentage of people who have taken the worldwide plan.\n",
        "\n",
        "In order to display the percentage of consumers who canceled their international plans, the average calling fee, and the average number of minutes spent in conversations, we employed bar charts."
      ],
      "metadata": {
        "id": "dcxuIMRPYuh3"
      }
    },
    {
      "cell_type": "markdown",
      "source": [
        "##### 2. What is/are the insight(s) found from the chart?"
      ],
      "metadata": {
        "id": "GwzvFGzlYuh3"
      }
    },
    {
      "cell_type": "markdown",
      "source": [
        "According to this data, 323 people have an international plan, whereas 3010 do not.\n",
        "\n",
        "42.4% of individuals with an overseas plan discontinue their plan.\n",
        "\n",
        "Conversely, just 11.4% of individuals without an overseas plan discontinue their coverage.\n",
        "\n",
        "The average cost for individuals with an international plan is 2.87, and they speak for an average of 10.7 minutes.\n",
        "\n",
        "On the other hand, the average cost and conversation time of people without international plans is 2.75 and 10.16 minutes, respectively.\n",
        "\n",
        "People with international plans may be leaving because their out-of-plan international call costs are the same as those of customers without international plans. They may be dissatisfied because they aren't receiving any benefits for having an international plan."
      ],
      "metadata": {
        "id": "uyqkiB8YYuh3"
      }
    },
    {
      "cell_type": "markdown",
      "source": [
        "##### 3. Will the gained insights help creating a positive business impact?\n",
        "Are there any insights that lead to negative growth? Justify with specific reason."
      ],
      "metadata": {
        "id": "qYpmQ266Yuh3"
      }
    },
    {
      "cell_type": "markdown",
      "source": [
        "Indeed, the discovered insights will undoubtedly contribute to a favorable commercial impact. The cost of an international plan is paid in addition to other fees, although the call time value charge is the same for consumers without an international plan. That could be a major factor in the increased churn rate for individuals on foreign plans."
      ],
      "metadata": {
        "id": "_WtzZ_hCYuh4"
      }
    },
    {
      "cell_type": "markdown",
      "source": [
        "#### Chart - 6 Voice Mail"
      ],
      "metadata": {
        "id": "OH-pJp9IphqM"
      }
    },
    {
      "cell_type": "code",
      "source": [
        "# Chart - 6 visualization code\n",
        "\n",
        "# data for voice mail plan\n",
        "voice = telecom_df['Voice mail plan'].value_counts()\n",
        "\n",
        "# vizualizing code for customers percentage having voice mail plan\n",
        "\n",
        "#color palette selection\n",
        "palette_color = sns.color_palette('pastel')\n",
        "textprops = {'fontsize':13}\n",
        "\n",
        "# plotting chart of voice mail\n",
        "plt.figure(figsize=(9,7))\n",
        "plt.pie(voice, labels=['No','Yes'],startangle=90 , colors=palette_color, autopct=\"%1.1f%%\",textprops = textprops)\n",
        "plt.title('Distribution of customers having voice mail plan', fontsize=18)\n",
        "plt.show()\n"
      ],
      "metadata": {
        "id": "kuRf4wtuphqN"
      },
      "execution_count": null,
      "outputs": []
    },
    {
      "cell_type": "code",
      "source": [
        "# Vizualizing code for customers churning while having voice mail plan\n",
        "\n",
        "cc1=list(['no','yes'])\n",
        "cc2=telecom_df.groupby('Voice mail plan')['Churn'].mean()*100\n",
        "\n",
        "plt.figure(figsize=(6,8))\n",
        "plots = sns.barplot(x=cc1,y=cc2)\n",
        "for bar in plots.patches:\n",
        "  plots.annotate(format(bar.get_height(),'.2f'),\n",
        "                   (bar.get_x() + bar.get_width() / 2,\n",
        "                    bar.get_height()), ha='center', va='center',\n",
        "                   size=12, xytext=(0, 8),\n",
        "                   textcoords='offset points')\n",
        "\n",
        "plt.title(\" Percentage of customer churn on basis of voice mail plan\", fontsize = 20)\n",
        "plt.xlabel('Voice mail plan', fontsize = 15)\n",
        "plt.ylabel('Percentage (%)', fontsize = 15)\n",
        "plt.show()"
      ],
      "metadata": {
        "id": "jNqeA8FAu0K2"
      },
      "execution_count": null,
      "outputs": []
    },
    {
      "cell_type": "markdown",
      "source": [
        "##### 1. Why did you pick the specific chart?"
      ],
      "metadata": {
        "id": "bbFf2-_FphqN"
      }
    },
    {
      "cell_type": "markdown",
      "source": [
        "Pie charts are particularly helpful for displaying data that has already been calculated as a percentage of the entire. They are typically used to depict the proportions of a whole.\n",
        "\n",
        "In order to display the percentage of consumers that have a voice mail plan, we have employed a pie chart.\n",
        "\n",
        "When comparing the size or frequency of various categories or groups of data, bar charts are utilized. Bar charts can be used to display a lot of data in a short area and are helpful for comparing data across different categories.\n",
        "\n",
        "To illustrate the percentage of consumers that canceled their voice mail plans, we have employed a bar chart."
      ],
      "metadata": {
        "id": "loh7H2nzphqN"
      }
    },
    {
      "cell_type": "markdown",
      "source": [
        "##### 2. What is/are the insight(s) found from the chart?"
      ],
      "metadata": {
        "id": "_ouA3fa0phqN"
      }
    },
    {
      "cell_type": "markdown",
      "source": [
        "There is no voice mail plan for 2411\n",
        "\n",
        "922 offers a voice mail service.\n",
        "\n",
        "16.7% of those without voice mail experience churn.\n",
        "\n",
        "On the other hand, just 8.7% of voice mail plan subscribers discontinue."
      ],
      "metadata": {
        "id": "VECbqPI7phqN"
      }
    },
    {
      "cell_type": "markdown",
      "source": [
        "##### 3. Will the gained insights help creating a positive business impact?\n",
        "Are there any insights that lead to negative growth? Justify with specific reason."
      ],
      "metadata": {
        "id": "Seke61FWphqN"
      }
    },
    {
      "cell_type": "markdown",
      "source": [
        "Exist any insights that result in growth that is not positive? Provide a specific justification.\n",
        "\n",
        "Yes, the voice mail plan may be taken into account in part."
      ],
      "metadata": {
        "id": "DW4_bGpfphqN"
      }
    },
    {
      "cell_type": "markdown",
      "source": [
        "#### Chart - 7 Area Code"
      ],
      "metadata": {
        "id": "PIIx-8_IphqN"
      }
    },
    {
      "cell_type": "code",
      "source": [
        "# Chart - 7 visualization code\n",
        "# Visualizing code for Area Code wise average churn percentage\n",
        "a1= telecom_df['Area code'].unique()\n",
        "b1= telecom_df.groupby('Area code')['Churn'].mean()*100\n",
        "\n",
        "plt.figure(figsize=(6,5))\n",
        "plots = sns.barplot(x=a1, y=b1)\n",
        "for bar in plots.patches:\n",
        "  plots.annotate(format(bar.get_height(),'.2f'),\n",
        "                   (bar.get_x() + bar.get_width() / 2,\n",
        "                    bar.get_height()), ha='center', va='center',\n",
        "                   size=12, xytext=(0, 8),\n",
        "                   textcoords='offset points')\n",
        "plt.title('Area Code vs Churn Percantage',fontsize=20)\n",
        "plt.xlabel('Area code', fontsize = 15)\n",
        "plt.ylabel('Churn percentage (%)', fontsize = 15)\n",
        "plt.ylim(0,17)\n",
        "plt.show()"
      ],
      "metadata": {
        "id": "lqAIGUfyphqO"
      },
      "execution_count": null,
      "outputs": []
    },
    {
      "cell_type": "markdown",
      "source": [
        "##### 1. Why did you pick the specific chart?"
      ],
      "metadata": {
        "id": "t27r6nlMphqO"
      }
    },
    {
      "cell_type": "markdown",
      "source": [
        "When comparing the size or frequency of various categories or groups of data, bar charts are utilized. Bar charts can be used to display a lot of data in a short area and are helpful for comparing data across different categories.\n",
        "\n",
        "We have utilized a bar chart to display the average percentage of genuine churn according to Area Code."
      ],
      "metadata": {
        "id": "iv6ro40sphqO"
      }
    },
    {
      "cell_type": "markdown",
      "source": [
        "##### 2. What is/are the insight(s) found from the chart?"
      ],
      "metadata": {
        "id": "r2jJGEOYphqO"
      }
    },
    {
      "cell_type": "markdown",
      "source": [
        "Every area code has a churn rate of about 14%. Therefore, area code is irrelevant."
      ],
      "metadata": {
        "id": "Po6ZPi4hphqO"
      }
    },
    {
      "cell_type": "markdown",
      "source": [
        "##### 3. Will the gained insights help creating a positive business impact?\n",
        "Are there any insights that lead to negative growth? Justify with specific reason."
      ],
      "metadata": {
        "id": "b0JNsNcRphqO"
      }
    },
    {
      "cell_type": "markdown",
      "source": [
        "No, area codes have no bearing on the 14% turnover rate, which is the same for all area codes. However, by further separating the area codes with the corresponding states inside those area codes, the states where the problem is occurring can be examined. Thus, the definition is given above.\n",
        "\n",
        "Thus, area code won't help in this case to produce commercial impact, but the corresponding state-by-state analysis can."
      ],
      "metadata": {
        "id": "xvSq8iUTphqO"
      }
    },
    {
      "cell_type": "markdown",
      "source": [
        "#### Chart - 8 Overall Calls"
      ],
      "metadata": {
        "id": "BZR9WyysphqO"
      }
    },
    {
      "cell_type": "code",
      "source": [
        "# Chart - 8 visualization code\n",
        "# Average of total day calls, total day minutes & total day charge of churn\n",
        "cn_dcalls = pd.DataFrame(telecom_df.groupby([\"Churn\"])['Total day calls'].mean())\n",
        "print(cn_dcalls)\n",
        "print('')\n",
        "cn_dm = pd.DataFrame(telecom_df.groupby([\"Churn\"])['Total day minutes'].mean())\n",
        "print(cn_dm)\n",
        "print('')\n",
        "cn_dc = pd.DataFrame(telecom_df.groupby([\"Churn\"])['Total day charge'].mean())\n",
        "print(cn_dc)"
      ],
      "metadata": {
        "id": "TdPTWpAVphqO"
      },
      "execution_count": null,
      "outputs": []
    },
    {
      "cell_type": "code",
      "source": [
        "# Vizualizing Total day minutes vs total day charge\n",
        "plt.figure(figsize=(7,8))\n",
        "sns.scatterplot(data=telecom_df, x=\"Total day minutes\", y=\"Total day charge\", hue=\"Churn\")\n",
        "plt.title('Total Day Minutes, vs Total Day Charge', fontsize=18)\n",
        "plt.xlabel('Total day minutes',fontsize = 13)\n",
        "plt.ylabel('Total day charges',fontsize = 13)\n",
        "plt.show()"
      ],
      "metadata": {
        "id": "jLXIECofvNTp"
      },
      "execution_count": null,
      "outputs": []
    },
    {
      "cell_type": "code",
      "source": [
        "# Average of total eve calls, total eve minutes & total evening charge of churn\n",
        "cn_ecalls = pd.DataFrame(telecom_df.groupby([\"Churn\"])['Total eve calls'].mean())\n",
        "print(cn_ecalls)\n",
        "print(\" \")\n",
        "cn_em = pd.DataFrame(telecom_df.groupby([\"Churn\"])['Total eve minutes'].mean())\n",
        "print(cn_em)\n",
        "print(\" \")\n",
        "cn_ec = pd.DataFrame(telecom_df.groupby([\"Churn\"])['Total eve charge'].mean())\n",
        "print(cn_ec)"
      ],
      "metadata": {
        "id": "NsvnVlefvWbT"
      },
      "execution_count": null,
      "outputs": []
    },
    {
      "cell_type": "code",
      "source": [
        "# Average of total eve calls, total eve minutes & total evening charge of churn\n",
        "cn_ecalls = pd.DataFrame(telecom_df.groupby([\"Churn\"])['Total eve calls'].mean())\n",
        "print(cn_ecalls)\n",
        "print(\" \")\n",
        "cn_em = pd.DataFrame(telecom_df.groupby([\"Churn\"])['Total eve minutes'].mean())\n",
        "print(cn_em)\n",
        "print(\" \")\n",
        "cn_ec = pd.DataFrame(telecom_df.groupby([\"Churn\"])['Total eve charge'].mean())\n",
        "print(cn_ec)"
      ],
      "metadata": {
        "id": "HN0-WC_2vdAz"
      },
      "execution_count": null,
      "outputs": []
    },
    {
      "cell_type": "code",
      "source": [
        "# Vizualizing total evening minutes vs total evening charge\n",
        "plt.figure(figsize=(7,8))\n",
        "sns.scatterplot(x=\"Total eve minutes\", y=\"Total eve charge\", hue=\"Churn\", data=telecom_df)\n",
        "plt.title('Total evening minutes vs Total evening charge', fontsize=18)\n",
        "plt.xlabel('Total eve minutes',fontsize = 13)\n",
        "plt.ylabel('Total eve charges',fontsize = 13)\n",
        "plt.show()"
      ],
      "metadata": {
        "id": "CNOZ_LcZvfxU"
      },
      "execution_count": null,
      "outputs": []
    },
    {
      "cell_type": "code",
      "source": [
        "# Average of total night calls, total night minutes & total night charge of churn\n",
        "cn_ncalls = pd.DataFrame(telecom_df.groupby([\"Churn\"])['Total night calls'].mean())\n",
        "print(cn_ncalls)\n",
        "print(\" \")\n",
        "cn_nm = pd.DataFrame(telecom_df.groupby([\"Churn\"])['Total night minutes'].mean())\n",
        "print(cn_nm)\n",
        "print(\" \")\n",
        "cn_nc = pd.DataFrame(telecom_df.groupby([\"Churn\"])['Total night charge'].mean())\n",
        "print(cn_nc)"
      ],
      "metadata": {
        "id": "u5w0-_f9viwl"
      },
      "execution_count": null,
      "outputs": []
    },
    {
      "cell_type": "code",
      "source": [
        "# Vizualizing Total night minutes vs total night charge\n",
        "plt.figure(figsize=(7,8))\n",
        "sns.scatterplot(x=\"Total night minutes\", y=\"Total night charge\", hue=\"Churn\", data=telecom_df)\n",
        "plt.title('Total night minutes vs Total night charge', fontsize=18)\n",
        "plt.xlabel('Total night minutes',fontsize = 13)\n",
        "plt.ylabel('Total night charges',fontsize = 13)\n",
        "plt.show()"
      ],
      "metadata": {
        "id": "-7osjf5Zvlaq"
      },
      "execution_count": null,
      "outputs": []
    },
    {
      "cell_type": "code",
      "source": [
        "# Table of average calls of total day, eve & night on basis of churn\n",
        "cn_calls = pd.merge(pd.merge(cn_dcalls,cn_ecalls, on = 'Churn'),cn_ncalls,on = 'Churn').round(2).T\n",
        "cn_calls"
      ],
      "metadata": {
        "id": "lPkrzHsVvoO3"
      },
      "execution_count": null,
      "outputs": []
    },
    {
      "cell_type": "code",
      "source": [
        "# Bar plot of above table\n",
        "plt.figure(figsize=(9,6))\n",
        "cn_calls.plot(kind='bar',ylabel='mean')\n",
        "plt.title('Average of calls on the basis of churn', fontsize=18)\n",
        "plt.xlabel(\"calls\", fontsize = 13)\n",
        "plt.ylabel('Average of Calls',fontsize = 13)\n",
        "plt.show()"
      ],
      "metadata": {
        "id": "SA8AFJl6vqlQ"
      },
      "execution_count": null,
      "outputs": []
    },
    {
      "cell_type": "code",
      "source": [
        "# Table of average minutes of total day, eve & night on basis of churn\n",
        "cn_minutes = pd.merge(pd.merge(cn_dm,cn_em, on = 'Churn'),cn_nm,on = 'Churn').round(2).T\n",
        "cn_minutes"
      ],
      "metadata": {
        "id": "1W-WqygjvuHz"
      },
      "execution_count": null,
      "outputs": []
    },
    {
      "cell_type": "code",
      "source": [
        "# Bar plot of above table\n",
        "plt.figure(figsize=(9,6))\n",
        "cn_minutes.plot(kind='bar',ylabel='mean')\n",
        "plt.title('Average of minutes on the basis of churn', fontsize=18)\n",
        "plt.xlabel(\"minutes\", fontsize = 13)\n",
        "plt.ylabel('Average of minutes',fontsize = 13)\n",
        "plt.show()"
      ],
      "metadata": {
        "id": "QbbbqOCzvylp"
      },
      "execution_count": null,
      "outputs": []
    },
    {
      "cell_type": "code",
      "source": [
        "# Table of average charges of total day, eve & night on basis of churn\n",
        "cn_charges = pd.merge(pd.merge(cn_dc,cn_ec, on = 'Churn'),cn_nc,on = 'Churn').round(2).T\n",
        "cn_charges"
      ],
      "metadata": {
        "id": "VhzENYkTvyhk"
      },
      "execution_count": null,
      "outputs": []
    },
    {
      "cell_type": "code",
      "source": [
        "# Bar plot of above table\n",
        "plt.figure(figsize=(9,7))\n",
        "cn_charges.plot(kind='bar',ylabel='mean')\n",
        "plt.title('Average of charges on the basis of churn', fontsize=18)\n",
        "plt.xlabel(\"Charges\", fontsize = 13)\n",
        "plt.ylabel('Average of charges',fontsize = 13)\n",
        "plt.show()"
      ],
      "metadata": {
        "id": "_JyhoxSgv76x"
      },
      "execution_count": null,
      "outputs": []
    },
    {
      "cell_type": "markdown",
      "source": [
        "##### 1. Why did you pick the specific chart?"
      ],
      "metadata": {
        "id": "jj7wYXLtphqO"
      }
    },
    {
      "cell_type": "markdown",
      "source": [
        "Plotting the relationship between two numerical variables is done with scatter plots. Scatter plots can be used to show the relationship between two variables and are helpful in spotting patterns and trends in data.\n",
        "\n",
        "In order to illustrate the relationship between evening, day, and night calls, minutes, and fee, we have employed a scatter plot.\n",
        "\n",
        "When comparing the size or frequency of various categories or groups of data, bar charts are utilized. Bar charts can be used to display a lot of data in a short area and are helpful for comparing data across different categories.\n",
        "\n",
        "In order to illustrate important observations, we have utilized a bar plot to display the altered evening, night, and daytime data."
      ],
      "metadata": {
        "id": "Ob8u6rCTphqO"
      }
    },
    {
      "cell_type": "markdown",
      "source": [
        "##### 2. What is/are the insight(s) found from the chart?"
      ],
      "metadata": {
        "id": "eZrbJ2SmphqO"
      }
    },
    {
      "cell_type": "markdown",
      "source": [
        "Day, evening, and nighttime speech by churn consumers is longer than that of non-churn customers. As a result, they pay a higher fee than loyal consumers.\n",
        "\n",
        "If we offer a master plan, we can keep clients who would otherwise leave. According to the master plan, if a customer speaks for longer than the allotted time, we can charge him a little less, give him a discount, or give him an extra few minutes free to discuss.\n",
        "\n",
        "Customers who would otherwise churn would be satisfied as a result, and they won't leave the business."
      ],
      "metadata": {
        "id": "mZtgC_hjphqO"
      }
    },
    {
      "cell_type": "markdown",
      "source": [
        "##### 3. Will the gained insights help creating a positive business impact?\n",
        "Are there any insights that lead to negative growth? Justify with specific reason."
      ],
      "metadata": {
        "id": "rFu4xreNphqO"
      }
    },
    {
      "cell_type": "markdown",
      "source": [
        "Calling and messaging are two major product offerings for telecom service providers. Therefore, voice call plan optimization will undoubtedly have an effect on business. Individuals who are only utilizing the telephone service should receive some extra offers in the form of talktime or powerplus plans. We may have some exciting ideas from midnight 12 to morning 6 for those who just use voice call plans during the night. Since they are our devoted customers, those with longer account durations ought to receive attractive offers. Higher account length customer churn will hurt the company's bottom line."
      ],
      "metadata": {
        "id": "ey_0qi68phqO"
      }
    },
    {
      "cell_type": "markdown",
      "source": [
        "#### Chart - 9 Customer Service Calls"
      ],
      "metadata": {
        "id": "YJ55k-q6phqO"
      }
    },
    {
      "cell_type": "code",
      "source": [
        "# Chart - 9 visualization code\n",
        "# data for customer service calls\n",
        "service = pd.DataFrame(telecom_df.groupby('Customer service calls')['Churn'].mean()*100)\n",
        "\n",
        "# Visualizing churn rate per customer service calls\n",
        "plt.figure(figsize=(12,9))\n",
        "plots = sns.barplot(x=service.index, y=service['Churn'])\n",
        "for bar in plots.patches:\n",
        "  plots.annotate(format(bar.get_height(),'.2f'),\n",
        "                   (bar.get_x() + bar.get_width() / 2,\n",
        "                    bar.get_height()), ha='center', va='center',\n",
        "                   size=12, xytext=(0, 8),\n",
        "                   textcoords='offset points')\n",
        "plt.title(\"Churn rate per service call\", fontsize = 20)\n",
        "plt.xlabel('No of cust service call', fontsize = 15)\n",
        "plt.ylabel('Percentage (%)', fontsize = 15)\n",
        "plt.show()"
      ],
      "metadata": {
        "id": "B2aS4O1ophqO"
      },
      "execution_count": null,
      "outputs": []
    },
    {
      "cell_type": "markdown",
      "source": [
        "##### 1. Why did you pick the specific chart?"
      ],
      "metadata": {
        "id": "gCFgpxoyphqP"
      }
    },
    {
      "cell_type": "markdown",
      "source": [
        "When comparing the size or frequency of various categories or groups of data, bar charts are utilized. Bar charts can be used to display a lot of data in a short area and are helpful for comparing data across different categories.\n",
        "\n",
        "To illustrate the relationship between the churn rate and customer service calls, we have employed a bar plot."
      ],
      "metadata": {
        "id": "TVxDimi2phqP"
      }
    },
    {
      "cell_type": "markdown",
      "source": [
        "##### 2. What is/are the insight(s) found from the chart?"
      ],
      "metadata": {
        "id": "OVtJsKN_phqQ"
      }
    },
    {
      "cell_type": "markdown",
      "source": [
        "**CUSTOMER SERVICE CALL**\n",
        "\n",
        "The service calls of customers varies from 0 to 9 .\n",
        "\n",
        "Customers who call for assistance more frequently are more likely to quit.\n",
        "\n",
        "The graph indicates that customers who have more than five have a higher turnover rate.\n",
        "\n",
        "Customers who contact for assistance more than five times should therefore have their questions answered right away and receive superior treatment in order to keep them as clients of the business."
      ],
      "metadata": {
        "id": "ngGi97qjphqQ"
      }
    },
    {
      "cell_type": "markdown",
      "source": [
        "##### 3. Will the gained insights help creating a positive business impact?\n",
        "Are there any insights that lead to negative growth? Justify with specific reason."
      ],
      "metadata": {
        "id": "lssrdh5qphqQ"
      }
    },
    {
      "cell_type": "markdown",
      "source": [
        "For every organization, providing excellent customer service is crucial. Thus, providing excellent customer service will undoubtedly benefit the company. We are responsible for handling customer calls and completing consumer query reports. Time period optimization is required. Root cause analysis should be performed on a particular issue if it is arising for more than five customers, and it should be fixed for everyone. Each customer should only require one call to be fulfilled, reducing the number of calls required for each. Excellent offers or appreciation for the customer service representatives' outstanding work in resolving client issues should be given."
      ],
      "metadata": {
        "id": "tBpY5ekJphqQ"
      }
    },
    {
      "cell_type": "markdown",
      "source": [
        "#### Chart - 10 - Correlation Heatmap"
      ],
      "metadata": {
        "id": "NC_X3p0fY2L0"
      }
    },
    {
      "cell_type": "code",
      "source": [
        "# Correlation Heatmap visualization code\n",
        "corr = telecom_df.corr()\n",
        "mask = np.zeros_like(corr)\n",
        "\n",
        "mask[np.triu_indices_from(mask)] = False\n",
        "\n",
        "with sns.axes_style(\"white\"):\n",
        "    f, ax = plt.subplots(figsize=(18, 12))\n",
        "    ax = sns.heatmap(corr , mask=mask, vmin = -1,vmax=1, annot = True, cmap=\"YlGnBu\")"
      ],
      "metadata": {
        "id": "xyC9zolEZNRQ"
      },
      "execution_count": null,
      "outputs": []
    },
    {
      "cell_type": "markdown",
      "source": [
        "##### 1. Why did you pick the specific chart?"
      ],
      "metadata": {
        "id": "UV0SzAkaZNRQ"
      }
    },
    {
      "cell_type": "markdown",
      "source": [
        "A linear link between two variables can be measured for both strength and direction using the correlation coefficient. An essential tool for data exploration and choosing which variables to include in a model, a correlation matrix summarizes the correlations between a set of variables. The correlation's range is [-1,1].\n",
        "\n",
        "Therefore, we have utilized a correlation heatmap to determine the correlation between all of the variables as well as the correlation coefficients.\n"
      ],
      "metadata": {
        "id": "DVPuT8LYZNRQ"
      }
    },
    {
      "cell_type": "markdown",
      "source": [
        "##### 2. What is/are the insight(s) found from the chart?"
      ],
      "metadata": {
        "id": "YPEH6qLeZNRQ"
      }
    },
    {
      "cell_type": "markdown",
      "source": [
        "Total day charge and total day minute, total evening charge and total evening minute, and total night charge and total night minute are all positively and highly connected, with a value of 1, as can be seen in the correlation heatmap above.\n",
        "\n",
        "Only the area code has a positive correlation with customer service calls; the other factors have a negative correlation.\n",
        "\n",
        "The accompanying figure shows the rest of the correlation."
      ],
      "metadata": {
        "id": "bfSqtnDqZNRR"
      }
    },
    {
      "cell_type": "markdown",
      "source": [
        "## **5. Solution to Business Objective**"
      ],
      "metadata": {
        "id": "JcMwzZxoAimU"
      }
    },
    {
      "cell_type": "markdown",
      "source": [
        "#### What do you suggest the client to achieve Business Objective ?\n",
        "Explain Briefly."
      ],
      "metadata": {
        "id": "8G2x9gOozGDZ"
      }
    },
    {
      "cell_type": "markdown",
      "source": [
        "**Solution to Reduce Customer Churn**\n",
        "\n",
        "* Adjust the International Plan as the cost is the same as the regular one.\n",
        "* Communicate in a proactive manner.\n",
        "* Request comments frequently.\n",
        "* Throw offers from time to time to keep clients.\n",
        "* See who is having trouble with the most churning consumers.\n",
        "* Focus on your greatest clients.\n",
        "* Frequent upkeep of servers.\n",
        "* Resolving Issues with Poor Network Connectivity.\n",
        "* Establish a plan of action for new clients.\n",
        "* When churn occurs, examine it.\n",
        "* Continue to compete."
      ],
      "metadata": {
        "id": "pASKb0qOza21"
      }
    },
    {
      "cell_type": "markdown",
      "source": [
        "# **Conclusion**"
      ],
      "metadata": {
        "id": "gCX9965dhzqZ"
      }
    },
    {
      "cell_type": "markdown",
      "source": [
        "The rate of new clients in the telecommunications industry is slow, and the sector is already well-established. Because of this, businesses in this sector place a high priority on client retention and lowering attrition. This project examined a dataset of churn to determine the primary causes of churn and to obtain insightful information. The following are some insights we were able to obtain about the churn dataset using exploratory data analysis:\n",
        "\n",
        "* The minute fields have a direct relationship with the four charge fields.\n",
        "\n",
        "* The area code can be omitted if it is not relevant.\n",
        "\n",
        "* International Plan users tend to churn more frequently.\n",
        "\n",
        "* Compared to other customers, those who have made four or more customer support calls tend to churn much more quickly.\n",
        "\n",
        "* High minute usage during the day and nighttime causes customers to churn more quickly.\n",
        "\n",
        "* There is no discernible correlation between churn and variables such voice mail messages, account length, day calls, evening calls, night calls, international calls, night minutes, and international minutes."
      ],
      "metadata": {
        "id": "Fjb1IsQkh3yE"
      }
    },
    {
      "cell_type": "markdown",
      "source": [
        "### ***Hurrah! You have successfully completed your EDA Capstone Project !!!***"
      ],
      "metadata": {
        "id": "gIfDvo9L0UH2"
      }
    }
  ]
}